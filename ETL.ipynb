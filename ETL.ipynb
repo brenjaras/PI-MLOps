{
 "cells": [
  {
   "cell_type": "code",
   "execution_count": 5,
   "metadata": {},
   "outputs": [],
   "source": [
    "import json\n",
    "import ast\n",
    "import pandas as pd\n",
    "from dateutil.parser import parse"
   ]
  },
  {
   "cell_type": "code",
   "execution_count": 6,
   "metadata": {},
   "outputs": [],
   "source": [
    "from IPython.display import display\n",
    "pd.set_option('display.max_rows', None)  # Mostrar todas las filas\n",
    "pd.set_option('display.max_columns', None)  # Mostrar todas las columnas"
   ]
  },
  {
   "cell_type": "code",
   "execution_count": 7,
   "metadata": {},
   "outputs": [],
   "source": [
    "##Esta funcion evalua cada fila del archivo json y lo convierte a str\n",
    "def convert_unicode_to_string(d):\n",
    "    if isinstance(d, dict):\n",
    "        return {convert_unicode_to_string(k): convert_unicode_to_string(v) for k, v in d.items()}\n",
    "    elif isinstance(d, list):\n",
    "        return [convert_unicode_to_string(item) for item in d]\n",
    "    elif isinstance(d, str):\n",
    "        return str(d)\n",
    "    else:\n",
    "        return d\n"
   ]
  },
  {
   "cell_type": "code",
   "execution_count": 9,
   "metadata": {},
   "outputs": [],
   "source": [
    "##Se lee el archivo json y se convierte a dataframe para trabajar mejor los datos\n",
    "with open(\"Data\\steam_games.json\") as archivo:\n",
    "    lines = archivo.readlines()  ##Devuelve una lista con los valores del json\n",
    "    data_ = [ast.literal_eval(line) for line in lines]  ##Quita el prefijo 'u antes de cada valor\n",
    "\n",
    "data = convert_unicode_to_string(data_)\n",
    "df = pd.DataFrame(data)"
   ]
  },
  {
   "cell_type": "code",
   "execution_count": 10,
   "metadata": {},
   "outputs": [
    {
     "name": "stdout",
     "output_type": "stream",
     "text": [
      "<class 'pandas.core.frame.DataFrame'>\n",
      "RangeIndex: 32135 entries, 0 to 32134\n",
      "Data columns (total 16 columns):\n",
      " #   Column          Non-Null Count  Dtype  \n",
      "---  ------          --------------  -----  \n",
      " 0   publisher       24083 non-null  object \n",
      " 1   genres          28852 non-null  object \n",
      " 2   app_name        32133 non-null  object \n",
      " 3   title           30085 non-null  object \n",
      " 4   url             32135 non-null  object \n",
      " 5   release_date    30068 non-null  object \n",
      " 6   tags            31972 non-null  object \n",
      " 7   discount_price  225 non-null    float64\n",
      " 8   reviews_url     32133 non-null  object \n",
      " 9   specs           31465 non-null  object \n",
      " 10  price           30758 non-null  object \n",
      " 11  early_access    32135 non-null  bool   \n",
      " 12  id              32133 non-null  object \n",
      " 13  developer       28836 non-null  object \n",
      " 14  sentiment       24953 non-null  object \n",
      " 15  metascore       2677 non-null   object \n",
      "dtypes: bool(1), float64(1), object(14)\n",
      "memory usage: 3.7+ MB\n"
     ]
    }
   ],
   "source": [
    "df. info()"
   ]
  },
  {
   "cell_type": "code",
   "execution_count": 11,
   "metadata": {},
   "outputs": [
    {
     "data": {
      "text/html": [
       "<div>\n",
       "<style scoped>\n",
       "    .dataframe tbody tr th:only-of-type {\n",
       "        vertical-align: middle;\n",
       "    }\n",
       "\n",
       "    .dataframe tbody tr th {\n",
       "        vertical-align: top;\n",
       "    }\n",
       "\n",
       "    .dataframe thead th {\n",
       "        text-align: right;\n",
       "    }\n",
       "</style>\n",
       "<table border=\"1\" class=\"dataframe\">\n",
       "  <thead>\n",
       "    <tr style=\"text-align: right;\">\n",
       "      <th></th>\n",
       "      <th>publisher</th>\n",
       "      <th>genres</th>\n",
       "      <th>app_name</th>\n",
       "      <th>title</th>\n",
       "      <th>url</th>\n",
       "      <th>release_date</th>\n",
       "      <th>tags</th>\n",
       "      <th>discount_price</th>\n",
       "      <th>reviews_url</th>\n",
       "      <th>specs</th>\n",
       "      <th>price</th>\n",
       "      <th>early_access</th>\n",
       "      <th>id</th>\n",
       "      <th>developer</th>\n",
       "      <th>sentiment</th>\n",
       "      <th>metascore</th>\n",
       "    </tr>\n",
       "  </thead>\n",
       "  <tbody>\n",
       "    <tr>\n",
       "      <th>7558</th>\n",
       "      <td>NaN</td>\n",
       "      <td>[Action, Adventure, Indie]</td>\n",
       "      <td>Lil Big Invasion - Soundtrack</td>\n",
       "      <td>Lil Big Invasion - Soundtrack</td>\n",
       "      <td>http://store.steampowered.com/app/526020/Lil_B...</td>\n",
       "      <td>2016-10-11</td>\n",
       "      <td>[Action, Adventure, Indie]</td>\n",
       "      <td>NaN</td>\n",
       "      <td>http://steamcommunity.com/app/526020/reviews/?...</td>\n",
       "      <td>[Single-player, Downloadable Content, Steam Ac...</td>\n",
       "      <td>1.99</td>\n",
       "      <td>False</td>\n",
       "      <td>526020</td>\n",
       "      <td>Andreas Britten</td>\n",
       "      <td>NaN</td>\n",
       "      <td>NaN</td>\n",
       "    </tr>\n",
       "    <tr>\n",
       "      <th>20010</th>\n",
       "      <td>NaN</td>\n",
       "      <td>[Indie, RPG, Strategy]</td>\n",
       "      <td>Fantasy Grounds - Under Frozen Stars (PFRPG)</td>\n",
       "      <td>Fantasy Grounds - Under Frozen Stars (PFRPG)</td>\n",
       "      <td>http://store.steampowered.com/app/570030/Fanta...</td>\n",
       "      <td>2016-12-15</td>\n",
       "      <td>[Strategy, RPG, Indie]</td>\n",
       "      <td>NaN</td>\n",
       "      <td>http://steamcommunity.com/app/570030/reviews/?...</td>\n",
       "      <td>[Multi-player, Co-op, Cross-Platform Multiplay...</td>\n",
       "      <td>4.99</td>\n",
       "      <td>False</td>\n",
       "      <td>570030</td>\n",
       "      <td>SmiteWorks USA, LLC</td>\n",
       "      <td>NaN</td>\n",
       "      <td>NaN</td>\n",
       "    </tr>\n",
       "    <tr>\n",
       "      <th>5099</th>\n",
       "      <td>Dovetail Games - Flight</td>\n",
       "      <td>[Simulation]</td>\n",
       "      <td>FSX: Steam Edition - Natural Tree Environment ...</td>\n",
       "      <td>FSX: Steam Edition - Natural Tree Environment ...</td>\n",
       "      <td>http://store.steampowered.com/app/379561/FSX_S...</td>\n",
       "      <td>2016-01-12</td>\n",
       "      <td>[Simulation]</td>\n",
       "      <td>NaN</td>\n",
       "      <td>http://steamcommunity.com/app/379561/reviews/?...</td>\n",
       "      <td>[Single-player, Multi-player, Downloadable Con...</td>\n",
       "      <td>11.99</td>\n",
       "      <td>False</td>\n",
       "      <td>379561</td>\n",
       "      <td>Zinertek</td>\n",
       "      <td>Mixed</td>\n",
       "      <td>NaN</td>\n",
       "    </tr>\n",
       "    <tr>\n",
       "      <th>1229</th>\n",
       "      <td>Paradox Interactive</td>\n",
       "      <td>[Strategy]</td>\n",
       "      <td>Hearts of Iron III: Japanese Vehicle Spritepack</td>\n",
       "      <td>Hearts of Iron III: Japanese Vehicle Spritepack</td>\n",
       "      <td>http://store.steampowered.com/app/214988/Heart...</td>\n",
       "      <td>2012-12-17</td>\n",
       "      <td>[Strategy]</td>\n",
       "      <td>NaN</td>\n",
       "      <td>http://steamcommunity.com/app/214988/reviews/?...</td>\n",
       "      <td>[Single-player, Multi-player, Co-op, Downloada...</td>\n",
       "      <td>0.99</td>\n",
       "      <td>False</td>\n",
       "      <td>214988</td>\n",
       "      <td>Paradox Development Studio</td>\n",
       "      <td>8 user reviews</td>\n",
       "      <td>NaN</td>\n",
       "    </tr>\n",
       "    <tr>\n",
       "      <th>20950</th>\n",
       "      <td>Allusio</td>\n",
       "      <td>[Action, Casual, Indie]</td>\n",
       "      <td>Project Hovercraft</td>\n",
       "      <td>Project Hovercraft</td>\n",
       "      <td>http://store.steampowered.com/app/497490/Proje...</td>\n",
       "      <td>2016-10-19</td>\n",
       "      <td>[Action, Indie, Casual]</td>\n",
       "      <td>NaN</td>\n",
       "      <td>http://steamcommunity.com/app/497490/reviews/?...</td>\n",
       "      <td>[Multi-player, Online Multi-Player]</td>\n",
       "      <td>14.99</td>\n",
       "      <td>False</td>\n",
       "      <td>497490</td>\n",
       "      <td>Allusio</td>\n",
       "      <td>1 user reviews</td>\n",
       "      <td>NaN</td>\n",
       "    </tr>\n",
       "  </tbody>\n",
       "</table>\n",
       "</div>"
      ],
      "text/plain": [
       "                     publisher                      genres  \\\n",
       "7558                       NaN  [Action, Adventure, Indie]   \n",
       "20010                      NaN      [Indie, RPG, Strategy]   \n",
       "5099   Dovetail Games - Flight                [Simulation]   \n",
       "1229       Paradox Interactive                  [Strategy]   \n",
       "20950                  Allusio     [Action, Casual, Indie]   \n",
       "\n",
       "                                                app_name  \\\n",
       "7558                       Lil Big Invasion - Soundtrack   \n",
       "20010       Fantasy Grounds - Under Frozen Stars (PFRPG)   \n",
       "5099   FSX: Steam Edition - Natural Tree Environment ...   \n",
       "1229     Hearts of Iron III: Japanese Vehicle Spritepack   \n",
       "20950                                 Project Hovercraft   \n",
       "\n",
       "                                                   title  \\\n",
       "7558                       Lil Big Invasion - Soundtrack   \n",
       "20010       Fantasy Grounds - Under Frozen Stars (PFRPG)   \n",
       "5099   FSX: Steam Edition - Natural Tree Environment ...   \n",
       "1229     Hearts of Iron III: Japanese Vehicle Spritepack   \n",
       "20950                                 Project Hovercraft   \n",
       "\n",
       "                                                     url release_date  \\\n",
       "7558   http://store.steampowered.com/app/526020/Lil_B...   2016-10-11   \n",
       "20010  http://store.steampowered.com/app/570030/Fanta...   2016-12-15   \n",
       "5099   http://store.steampowered.com/app/379561/FSX_S...   2016-01-12   \n",
       "1229   http://store.steampowered.com/app/214988/Heart...   2012-12-17   \n",
       "20950  http://store.steampowered.com/app/497490/Proje...   2016-10-19   \n",
       "\n",
       "                             tags  discount_price  \\\n",
       "7558   [Action, Adventure, Indie]             NaN   \n",
       "20010      [Strategy, RPG, Indie]             NaN   \n",
       "5099                 [Simulation]             NaN   \n",
       "1229                   [Strategy]             NaN   \n",
       "20950     [Action, Indie, Casual]             NaN   \n",
       "\n",
       "                                             reviews_url  \\\n",
       "7558   http://steamcommunity.com/app/526020/reviews/?...   \n",
       "20010  http://steamcommunity.com/app/570030/reviews/?...   \n",
       "5099   http://steamcommunity.com/app/379561/reviews/?...   \n",
       "1229   http://steamcommunity.com/app/214988/reviews/?...   \n",
       "20950  http://steamcommunity.com/app/497490/reviews/?...   \n",
       "\n",
       "                                                   specs  price  early_access  \\\n",
       "7558   [Single-player, Downloadable Content, Steam Ac...   1.99         False   \n",
       "20010  [Multi-player, Co-op, Cross-Platform Multiplay...   4.99         False   \n",
       "5099   [Single-player, Multi-player, Downloadable Con...  11.99         False   \n",
       "1229   [Single-player, Multi-player, Co-op, Downloada...   0.99         False   \n",
       "20950                [Multi-player, Online Multi-Player]  14.99         False   \n",
       "\n",
       "           id                   developer       sentiment metascore  \n",
       "7558   526020             Andreas Britten             NaN       NaN  \n",
       "20010  570030         SmiteWorks USA, LLC             NaN       NaN  \n",
       "5099   379561                    Zinertek           Mixed       NaN  \n",
       "1229   214988  Paradox Development Studio  8 user reviews       NaN  \n",
       "20950  497490                     Allusio  1 user reviews       NaN  "
      ]
     },
     "execution_count": 11,
     "metadata": {},
     "output_type": "execute_result"
    }
   ],
   "source": [
    "df.sample(5)"
   ]
  },
  {
   "cell_type": "code",
   "execution_count": 12,
   "metadata": {},
   "outputs": [],
   "source": [
    "##Esta funcion convierte a formato fecha la columna release_date aisgnando null a los que no se pueden convertir\n",
    "def parse_date(date_str):\n",
    "    try:\n",
    "        return parse(date_str)\n",
    "    except:\n",
    "        return pd.NaT \n"
   ]
  },
  {
   "cell_type": "code",
   "execution_count": 13,
   "metadata": {},
   "outputs": [],
   "source": [
    "##Extrae el año de la fecha, y asigna null a los valores que no cumplen con el formato correcto\n",
    "def get_year(date):\n",
    "    try:\n",
    "        year = date.year\n",
    "        return int(year)\n",
    "    except:\n",
    "        return pd.NaT"
   ]
  },
  {
   "cell_type": "code",
   "execution_count": 14,
   "metadata": {},
   "outputs": [],
   "source": [
    "##Convertir a formato de fecha utilizando la función parse_date\n",
    "df['release_date'] = df['release_date'].apply(parse_date)"
   ]
  },
  {
   "cell_type": "code",
   "execution_count": 15,
   "metadata": {},
   "outputs": [],
   "source": [
    "##Se crea la columna correspondiente al año de lanzamiento\n",
    "df['release_year'] = df['release_date'].apply(get_year)"
   ]
  },
  {
   "cell_type": "code",
   "execution_count": 16,
   "metadata": {},
   "outputs": [
    {
     "data": {
      "text/plain": [
       "array([4.99, 'Free To Play', 'Free to Play', 0.99, 2.99, 3.99, 9.99,\n",
       "       18.99, 29.99, nan, 'Free', 10.99, 1.59, 14.99, 1.99, 59.99, 8.99,\n",
       "       6.99, 7.99, 39.99, 19.99, 7.49, 12.99, 5.99, 2.49, 15.99, 1.25,\n",
       "       24.99, 17.99, 61.99, 3.49, 11.99, 13.99, 'Free Demo',\n",
       "       'Play for Free!', 34.99, 74.76, 1.49, 32.99, 99.99, 14.95, 69.99,\n",
       "       16.99, 79.99, 49.99, 5.0, 44.99, 13.98, 29.96, 119.99, 109.99,\n",
       "       149.99, 771.71, 'Install Now', 21.99, 89.99,\n",
       "       'Play WARMACHINE: Tactics Demo', 0.98, 139.92, 4.29, 64.99,\n",
       "       'Free Mod', 54.99, 74.99, 'Install Theme', 0.89, 'Third-party',\n",
       "       0.5, 'Play Now', 299.99, 1.29, 3.0, 15.0, 5.49, 23.99, 49.0, 20.99,\n",
       "       10.93, 1.39, 'Free HITMAN™ Holiday Pack', 36.99, 4.49, 2.0, 4.0,\n",
       "       9.0, 234.99, 1.95, 1.5, 199.0, 189.0, 6.66, 27.99, 10.49, 129.99,\n",
       "       179.0, 26.99, 399.99, 31.99, 399.0, 20.0, 40.0, 3.33, 199.99,\n",
       "       22.99, 320.0, 38.85, 71.7, 59.95, 995.0, 27.49, 3.39, 6.0, 19.95,\n",
       "       499.99, 16.06, 4.68, 131.4, 44.98, 202.76, 1.0, 2.3, 0.95, 172.24,\n",
       "       249.99, 2.97, 10.96, 10.0, 30.0, 2.66, 6.48, 19.29, 11.15, 18.9,\n",
       "       2.89, 'Play the Demo', 99.0, 87.94, 599.0, 8.98, 9.69, 0.49, 9.98,\n",
       "       9.95, 7.0, 'Starting at $499.00', 'Starting at $449.00', 12.89,\n",
       "       6.49, 1.87, 42.99, 41.99, 289.99, 'Free to Try', 23.96, 5.65, 12.0,\n",
       "       13.37, 189.96, 124.99, 'Free Movie', 19.98, 160.91, 'Free to Use'],\n",
       "      dtype=object)"
      ]
     },
     "execution_count": 16,
     "metadata": {},
     "output_type": "execute_result"
    }
   ],
   "source": [
    "df.price.unique()"
   ]
  },
  {
   "cell_type": "code",
   "execution_count": 17,
   "metadata": {},
   "outputs": [],
   "source": [
    "##Se crea una mascara que identifica los valores que contienen la palabra 'Free' en la columna price\n",
    "mask = df['price'].str.contains('free', case=False, na=False)"
   ]
  },
  {
   "cell_type": "code",
   "execution_count": 18,
   "metadata": {},
   "outputs": [],
   "source": [
    "##Rellenamos esos valores 'Free' por 0\n",
    "df.loc[mask, 'price'] = 0"
   ]
  },
  {
   "cell_type": "code",
   "execution_count": 19,
   "metadata": {},
   "outputs": [],
   "source": [
    "##Se convierte la columna price a float\n",
    "df['price'] = pd.to_numeric(df['price'], errors='coerce')"
   ]
  },
  {
   "cell_type": "code",
   "execution_count": 20,
   "metadata": {},
   "outputs": [],
   "source": [
    "df.to_csv('Data\\data.csv', index=False)"
   ]
  },
  {
   "cell_type": "code",
   "execution_count": 21,
   "metadata": {},
   "outputs": [
    {
     "name": "stdout",
     "output_type": "stream",
     "text": [
      "<class 'pandas.core.frame.DataFrame'>\n",
      "RangeIndex: 32135 entries, 0 to 32134\n",
      "Data columns (total 17 columns):\n",
      " #   Column          Non-Null Count  Dtype         \n",
      "---  ------          --------------  -----         \n",
      " 0   publisher       24083 non-null  object        \n",
      " 1   genres          28852 non-null  object        \n",
      " 2   app_name        32133 non-null  object        \n",
      " 3   title           30085 non-null  object        \n",
      " 4   url             32135 non-null  object        \n",
      " 5   release_date    29895 non-null  datetime64[ns]\n",
      " 6   tags            31972 non-null  object        \n",
      " 7   discount_price  225 non-null    float64       \n",
      " 8   reviews_url     32133 non-null  object        \n",
      " 9   specs           31465 non-null  object        \n",
      " 10  price           30748 non-null  float64       \n",
      " 11  early_access    32135 non-null  bool          \n",
      " 12  id              32133 non-null  object        \n",
      " 13  developer       28836 non-null  object        \n",
      " 14  sentiment       24953 non-null  object        \n",
      " 15  metascore       2677 non-null   object        \n",
      " 16  release_year    29895 non-null  object        \n",
      "dtypes: bool(1), datetime64[ns](1), float64(2), object(13)\n",
      "memory usage: 4.0+ MB\n"
     ]
    }
   ],
   "source": [
    "df.info()"
   ]
  },
  {
   "cell_type": "code",
   "execution_count": 52,
   "metadata": {},
   "outputs": [],
   "source": [
    "genres = df[['release_year','genres']]"
   ]
  },
  {
   "cell_type": "code",
   "execution_count": 53,
   "metadata": {},
   "outputs": [
    {
     "data": {
      "text/plain": [
       "release_year    2240\n",
       "genres          3283\n",
       "dtype: int64"
      ]
     },
     "execution_count": 53,
     "metadata": {},
     "output_type": "execute_result"
    }
   ],
   "source": [
    "genres.isnull().sum()"
   ]
  },
  {
   "cell_type": "code",
   "execution_count": 54,
   "metadata": {},
   "outputs": [],
   "source": [
    "genres = genres.dropna()"
   ]
  },
  {
   "cell_type": "code",
   "execution_count": 55,
   "metadata": {},
   "outputs": [],
   "source": [
    "genres.to_csv('Data\\genres.csv', index=False)"
   ]
  },
  {
   "cell_type": "code",
   "execution_count": 56,
   "metadata": {},
   "outputs": [],
   "source": [
    "names = df[['release_year', 'app_name']]"
   ]
  },
  {
   "cell_type": "code",
   "execution_count": 57,
   "metadata": {},
   "outputs": [
    {
     "data": {
      "text/plain": [
       "release_year    2240\n",
       "app_name           2\n",
       "dtype: int64"
      ]
     },
     "execution_count": 57,
     "metadata": {},
     "output_type": "execute_result"
    }
   ],
   "source": [
    "names.isnull().sum()"
   ]
  },
  {
   "cell_type": "code",
   "execution_count": 58,
   "metadata": {},
   "outputs": [],
   "source": [
    "names = names.dropna()"
   ]
  },
  {
   "cell_type": "code",
   "execution_count": 59,
   "metadata": {},
   "outputs": [],
   "source": [
    "names.to_csv('Data/names.csv', index=False)"
   ]
  },
  {
   "cell_type": "code",
   "execution_count": 60,
   "metadata": {},
   "outputs": [],
   "source": [
    "specs = df[['release_year', 'specs']]"
   ]
  },
  {
   "cell_type": "code",
   "execution_count": 61,
   "metadata": {},
   "outputs": [
    {
     "data": {
      "text/plain": [
       "release_year    2240\n",
       "specs            670\n",
       "dtype: int64"
      ]
     },
     "execution_count": 61,
     "metadata": {},
     "output_type": "execute_result"
    }
   ],
   "source": [
    "specs.isnull().sum()"
   ]
  },
  {
   "cell_type": "code",
   "execution_count": 62,
   "metadata": {},
   "outputs": [],
   "source": [
    "specs = specs.dropna()"
   ]
  },
  {
   "cell_type": "code",
   "execution_count": 63,
   "metadata": {},
   "outputs": [],
   "source": [
    "specs.to_csv('Data\\specs.csv', index=False)"
   ]
  },
  {
   "cell_type": "code",
   "execution_count": 64,
   "metadata": {},
   "outputs": [],
   "source": [
    "early_access = df.loc[df['early_access'] == True, ['release_year', 'id', 'app_name']]"
   ]
  },
  {
   "cell_type": "code",
   "execution_count": 65,
   "metadata": {},
   "outputs": [
    {
     "data": {
      "text/plain": [
       "(1947, 3)"
      ]
     },
     "execution_count": 65,
     "metadata": {},
     "output_type": "execute_result"
    }
   ],
   "source": [
    "early_access.shape"
   ]
  },
  {
   "cell_type": "code",
   "execution_count": 66,
   "metadata": {},
   "outputs": [],
   "source": [
    "early_access = early_access.dropna()"
   ]
  },
  {
   "cell_type": "code",
   "execution_count": 67,
   "metadata": {},
   "outputs": [
    {
     "name": "stdout",
     "output_type": "stream",
     "text": [
      "<class 'pandas.core.frame.DataFrame'>\n",
      "Index: 1434 entries, 43 to 32123\n",
      "Data columns (total 3 columns):\n",
      " #   Column        Non-Null Count  Dtype \n",
      "---  ------        --------------  ----- \n",
      " 0   release_year  1434 non-null   object\n",
      " 1   id            1434 non-null   object\n",
      " 2   app_name      1434 non-null   object\n",
      "dtypes: object(3)\n",
      "memory usage: 44.8+ KB\n"
     ]
    }
   ],
   "source": [
    "early_access.info()"
   ]
  },
  {
   "cell_type": "code",
   "execution_count": 68,
   "metadata": {},
   "outputs": [],
   "source": [
    "early_access.to_csv('Data\\early_access.csv', index=False)"
   ]
  },
  {
   "cell_type": "code",
   "execution_count": 69,
   "metadata": {},
   "outputs": [],
   "source": [
    "sentiment = df[['release_year', 'sentiment']]"
   ]
  },
  {
   "cell_type": "code",
   "execution_count": 70,
   "metadata": {},
   "outputs": [
    {
     "data": {
      "text/plain": [
       "release_year    2240\n",
       "sentiment       7182\n",
       "dtype: int64"
      ]
     },
     "execution_count": 70,
     "metadata": {},
     "output_type": "execute_result"
    }
   ],
   "source": [
    "sentiment.isnull().sum()"
   ]
  },
  {
   "cell_type": "code",
   "execution_count": 71,
   "metadata": {},
   "outputs": [],
   "source": [
    "sentiment = sentiment.dropna()"
   ]
  },
  {
   "cell_type": "code",
   "execution_count": 72,
   "metadata": {},
   "outputs": [],
   "source": [
    "sentiment.to_csv('Data\\sentiment.csv', index=False)"
   ]
  },
  {
   "cell_type": "code",
   "execution_count": 73,
   "metadata": {},
   "outputs": [],
   "source": [
    "metascore = df[['release_year', 'metascore', 'app_name']]"
   ]
  },
  {
   "cell_type": "code",
   "execution_count": 74,
   "metadata": {},
   "outputs": [
    {
     "name": "stdout",
     "output_type": "stream",
     "text": [
      "<class 'pandas.core.frame.DataFrame'>\n",
      "RangeIndex: 32135 entries, 0 to 32134\n",
      "Data columns (total 3 columns):\n",
      " #   Column        Non-Null Count  Dtype \n",
      "---  ------        --------------  ----- \n",
      " 0   release_year  29895 non-null  object\n",
      " 1   metascore     2677 non-null   object\n",
      " 2   app_name      32133 non-null  object\n",
      "dtypes: object(3)\n",
      "memory usage: 753.3+ KB\n"
     ]
    }
   ],
   "source": [
    "metascore.info()"
   ]
  },
  {
   "cell_type": "code",
   "execution_count": 75,
   "metadata": {},
   "outputs": [
    {
     "data": {
      "text/plain": [
       "release_year     2240\n",
       "metascore       29458\n",
       "app_name            2\n",
       "dtype: int64"
      ]
     },
     "execution_count": 75,
     "metadata": {},
     "output_type": "execute_result"
    }
   ],
   "source": [
    "metascore.isnull().sum()"
   ]
  },
  {
   "cell_type": "code",
   "execution_count": 76,
   "metadata": {},
   "outputs": [],
   "source": [
    "metascore = metascore.dropna()"
   ]
  },
  {
   "cell_type": "code",
   "execution_count": 77,
   "metadata": {},
   "outputs": [],
   "source": [
    "metascore.to_csv('Data\\metascore.csv', index=False)"
   ]
  }
 ],
 "metadata": {
  "kernelspec": {
   "display_name": "Python 3",
   "language": "python",
   "name": "python3"
  },
  "language_info": {
   "codemirror_mode": {
    "name": "ipython",
    "version": 3
   },
   "file_extension": ".py",
   "mimetype": "text/x-python",
   "name": "python",
   "nbconvert_exporter": "python",
   "pygments_lexer": "ipython3",
   "version": "3.11.3"
  },
  "orig_nbformat": 4
 },
 "nbformat": 4,
 "nbformat_minor": 2
}
