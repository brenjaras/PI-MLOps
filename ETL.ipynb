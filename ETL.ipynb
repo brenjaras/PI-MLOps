{
 "cells": [
  {
   "cell_type": "code",
   "execution_count": 2,
   "metadata": {},
   "outputs": [],
   "source": [
    "import json\n",
    "import ast\n",
    "import pandas as pd\n",
    "from dateutil.parser import parse"
   ]
  },
  {
   "cell_type": "code",
   "execution_count": 3,
   "metadata": {},
   "outputs": [],
   "source": [
    "from IPython.display import display\n",
    "pd.set_option('display.max_rows', None)  # Mostrar todas las filas\n",
    "pd.set_option('display.max_columns', None)  # Mostrar todas las columnas"
   ]
  },
  {
   "cell_type": "code",
   "execution_count": 4,
   "metadata": {},
   "outputs": [],
   "source": [
    "##Esta funcion evalua cada fila del archivo json y lo convierte a str\n",
    "def convert_unicode_to_string(d):\n",
    "    if isinstance(d, dict):\n",
    "        return {convert_unicode_to_string(k): convert_unicode_to_string(v) for k, v in d.items()}\n",
    "    elif isinstance(d, list):\n",
    "        return [convert_unicode_to_string(item) for item in d]\n",
    "    elif isinstance(d, str):\n",
    "        return str(d)\n",
    "    else:\n",
    "        return d\n"
   ]
  },
  {
   "cell_type": "code",
   "execution_count": 5,
   "metadata": {},
   "outputs": [],
   "source": [
    "##Se lee el archivo json y se convierte a dataframe para trabajar mejor los datos\n",
    "with open(\"steam_games.json\") as archivo:\n",
    "    lines = archivo.readlines()  ##Devuelve una lista con los valores del json\n",
    "    data_ = [ast.literal_eval(line) for line in lines]  ##Quita el prefijo 'u antes de cada valor\n",
    "\n",
    "data = convert_unicode_to_string(data_)\n",
    "df = pd.DataFrame(data)"
   ]
  },
  {
   "cell_type": "code",
   "execution_count": 7,
   "metadata": {},
   "outputs": [
    {
     "name": "stdout",
     "output_type": "stream",
     "text": [
      "<class 'pandas.core.frame.DataFrame'>\n",
      "RangeIndex: 32135 entries, 0 to 32134\n",
      "Data columns (total 16 columns):\n",
      " #   Column          Non-Null Count  Dtype  \n",
      "---  ------          --------------  -----  \n",
      " 0   publisher       24083 non-null  object \n",
      " 1   genres          28852 non-null  object \n",
      " 2   app_name        32133 non-null  object \n",
      " 3   title           30085 non-null  object \n",
      " 4   url             32135 non-null  object \n",
      " 5   release_date    30068 non-null  object \n",
      " 6   tags            31972 non-null  object \n",
      " 7   discount_price  225 non-null    float64\n",
      " 8   reviews_url     32133 non-null  object \n",
      " 9   specs           31465 non-null  object \n",
      " 10  price           30758 non-null  object \n",
      " 11  early_access    32135 non-null  bool   \n",
      " 12  id              32133 non-null  object \n",
      " 13  developer       28836 non-null  object \n",
      " 14  sentiment       24953 non-null  object \n",
      " 15  metascore       2677 non-null   object \n",
      "dtypes: bool(1), float64(1), object(14)\n",
      "memory usage: 3.7+ MB\n"
     ]
    }
   ],
   "source": [
    "df. info()"
   ]
  },
  {
   "cell_type": "code",
   "execution_count": 8,
   "metadata": {},
   "outputs": [
    {
     "data": {
      "text/html": [
       "<div>\n",
       "<style scoped>\n",
       "    .dataframe tbody tr th:only-of-type {\n",
       "        vertical-align: middle;\n",
       "    }\n",
       "\n",
       "    .dataframe tbody tr th {\n",
       "        vertical-align: top;\n",
       "    }\n",
       "\n",
       "    .dataframe thead th {\n",
       "        text-align: right;\n",
       "    }\n",
       "</style>\n",
       "<table border=\"1\" class=\"dataframe\">\n",
       "  <thead>\n",
       "    <tr style=\"text-align: right;\">\n",
       "      <th></th>\n",
       "      <th>publisher</th>\n",
       "      <th>genres</th>\n",
       "      <th>app_name</th>\n",
       "      <th>title</th>\n",
       "      <th>url</th>\n",
       "      <th>release_date</th>\n",
       "      <th>tags</th>\n",
       "      <th>discount_price</th>\n",
       "      <th>reviews_url</th>\n",
       "      <th>specs</th>\n",
       "      <th>price</th>\n",
       "      <th>early_access</th>\n",
       "      <th>id</th>\n",
       "      <th>developer</th>\n",
       "      <th>sentiment</th>\n",
       "      <th>metascore</th>\n",
       "    </tr>\n",
       "  </thead>\n",
       "  <tbody>\n",
       "    <tr>\n",
       "      <th>27460</th>\n",
       "      <td>Tin Man Games</td>\n",
       "      <td>[Adventure, Casual, Indie]</td>\n",
       "      <td>To Be or Not To Be</td>\n",
       "      <td>To Be or Not To Be</td>\n",
       "      <td>http://store.steampowered.com/app/324710/To_Be...</td>\n",
       "      <td>2015-02-04</td>\n",
       "      <td>[Adventure, Casual, Indie, Choose Your Own Adv...</td>\n",
       "      <td>NaN</td>\n",
       "      <td>http://steamcommunity.com/app/324710/reviews/?...</td>\n",
       "      <td>[Single-player, Steam Achievements, Full contr...</td>\n",
       "      <td>4.99</td>\n",
       "      <td>False</td>\n",
       "      <td>324710</td>\n",
       "      <td>Tin Man Games</td>\n",
       "      <td>Very Positive</td>\n",
       "      <td>NaN</td>\n",
       "    </tr>\n",
       "    <tr>\n",
       "      <th>16375</th>\n",
       "      <td>Cheat Code Studios</td>\n",
       "      <td>[Adventure, Casual]</td>\n",
       "      <td>Squish and the Corrupted Crystal</td>\n",
       "      <td>Squish and the Corrupted Crystal</td>\n",
       "      <td>http://store.steampowered.com/app/662390/Squis...</td>\n",
       "      <td>2017-08-08</td>\n",
       "      <td>[Adventure, Casual, Platformer]</td>\n",
       "      <td>NaN</td>\n",
       "      <td>http://steamcommunity.com/app/662390/reviews/?...</td>\n",
       "      <td>[Single-player, Full controller support]</td>\n",
       "      <td>14.99</td>\n",
       "      <td>False</td>\n",
       "      <td>662390</td>\n",
       "      <td>Cheat Code Studios</td>\n",
       "      <td>NaN</td>\n",
       "      <td>NaN</td>\n",
       "    </tr>\n",
       "    <tr>\n",
       "      <th>14586</th>\n",
       "      <td>NaN</td>\n",
       "      <td>NaN</td>\n",
       "      <td>GAMERS!</td>\n",
       "      <td>GAMERS!</td>\n",
       "      <td>http://store.steampowered.com/app/734190/GAMERS/</td>\n",
       "      <td>2017-10-26</td>\n",
       "      <td>[Episodic, Anime]</td>\n",
       "      <td>NaN</td>\n",
       "      <td>http://steamcommunity.com/app/734190/reviews/?...</td>\n",
       "      <td>NaN</td>\n",
       "      <td>1.99</td>\n",
       "      <td>False</td>\n",
       "      <td>734190</td>\n",
       "      <td>NaN</td>\n",
       "      <td>4 user reviews</td>\n",
       "      <td>NaN</td>\n",
       "    </tr>\n",
       "    <tr>\n",
       "      <th>12469</th>\n",
       "      <td>Aweswan studios</td>\n",
       "      <td>[Casual, RPG, Simulation, Strategy]</td>\n",
       "      <td>Depopulation</td>\n",
       "      <td>Depopulation</td>\n",
       "      <td>http://store.steampowered.com/app/718210/Depop...</td>\n",
       "      <td>2017-11-24</td>\n",
       "      <td>[Strategy, RPG, Casual, Simulation, Violent]</td>\n",
       "      <td>NaN</td>\n",
       "      <td>http://steamcommunity.com/app/718210/reviews/?...</td>\n",
       "      <td>[Single-player]</td>\n",
       "      <td>4.99</td>\n",
       "      <td>False</td>\n",
       "      <td>718210</td>\n",
       "      <td>Aweswan studios</td>\n",
       "      <td>1 user reviews</td>\n",
       "      <td>NaN</td>\n",
       "    </tr>\n",
       "    <tr>\n",
       "      <th>7216</th>\n",
       "      <td>NaN</td>\n",
       "      <td>NaN</td>\n",
       "      <td>Block Wave VR</td>\n",
       "      <td>NaN</td>\n",
       "      <td>http://store.steampowered.com/app/524060/Block...</td>\n",
       "      <td>NaN</td>\n",
       "      <td>[Strategy, Indie, Casual, VR, Puzzle]</td>\n",
       "      <td>NaN</td>\n",
       "      <td>http://steamcommunity.com/app/524060/reviews/?...</td>\n",
       "      <td>[Single-player, HTC Vive, Tracked Motion Contr...</td>\n",
       "      <td>4.99</td>\n",
       "      <td>False</td>\n",
       "      <td>524060</td>\n",
       "      <td>NaN</td>\n",
       "      <td>9 user reviews</td>\n",
       "      <td>NaN</td>\n",
       "    </tr>\n",
       "  </tbody>\n",
       "</table>\n",
       "</div>"
      ],
      "text/plain": [
       "                publisher                               genres   \n",
       "27460       Tin Man Games           [Adventure, Casual, Indie]  \\\n",
       "16375  Cheat Code Studios                  [Adventure, Casual]   \n",
       "14586                 NaN                                  NaN   \n",
       "12469     Aweswan studios  [Casual, RPG, Simulation, Strategy]   \n",
       "7216                  NaN                                  NaN   \n",
       "\n",
       "                               app_name                             title   \n",
       "27460                To Be or Not To Be                To Be or Not To Be  \\\n",
       "16375  Squish and the Corrupted Crystal  Squish and the Corrupted Crystal   \n",
       "14586                           GAMERS!                           GAMERS!   \n",
       "12469                      Depopulation                      Depopulation   \n",
       "7216                      Block Wave VR                               NaN   \n",
       "\n",
       "                                                     url release_date   \n",
       "27460  http://store.steampowered.com/app/324710/To_Be...   2015-02-04  \\\n",
       "16375  http://store.steampowered.com/app/662390/Squis...   2017-08-08   \n",
       "14586   http://store.steampowered.com/app/734190/GAMERS/   2017-10-26   \n",
       "12469  http://store.steampowered.com/app/718210/Depop...   2017-11-24   \n",
       "7216   http://store.steampowered.com/app/524060/Block...          NaN   \n",
       "\n",
       "                                                    tags  discount_price   \n",
       "27460  [Adventure, Casual, Indie, Choose Your Own Adv...             NaN  \\\n",
       "16375                    [Adventure, Casual, Platformer]             NaN   \n",
       "14586                                  [Episodic, Anime]             NaN   \n",
       "12469       [Strategy, RPG, Casual, Simulation, Violent]             NaN   \n",
       "7216               [Strategy, Indie, Casual, VR, Puzzle]             NaN   \n",
       "\n",
       "                                             reviews_url   \n",
       "27460  http://steamcommunity.com/app/324710/reviews/?...  \\\n",
       "16375  http://steamcommunity.com/app/662390/reviews/?...   \n",
       "14586  http://steamcommunity.com/app/734190/reviews/?...   \n",
       "12469  http://steamcommunity.com/app/718210/reviews/?...   \n",
       "7216   http://steamcommunity.com/app/524060/reviews/?...   \n",
       "\n",
       "                                                   specs  price  early_access   \n",
       "27460  [Single-player, Steam Achievements, Full contr...   4.99         False  \\\n",
       "16375           [Single-player, Full controller support]  14.99         False   \n",
       "14586                                                NaN   1.99         False   \n",
       "12469                                    [Single-player]   4.99         False   \n",
       "7216   [Single-player, HTC Vive, Tracked Motion Contr...   4.99         False   \n",
       "\n",
       "           id           developer       sentiment metascore  \n",
       "27460  324710       Tin Man Games   Very Positive       NaN  \n",
       "16375  662390  Cheat Code Studios             NaN       NaN  \n",
       "14586  734190                 NaN  4 user reviews       NaN  \n",
       "12469  718210     Aweswan studios  1 user reviews       NaN  \n",
       "7216   524060                 NaN  9 user reviews       NaN  "
      ]
     },
     "execution_count": 8,
     "metadata": {},
     "output_type": "execute_result"
    }
   ],
   "source": [
    "df.sample(5)"
   ]
  },
  {
   "cell_type": "code",
   "execution_count": 8,
   "metadata": {},
   "outputs": [],
   "source": [
    "##Esta funcion convierte a formato fecha la columna release_date aisgnando null a los que no se pueden convertir\n",
    "def parse_date(date_str):\n",
    "    try:\n",
    "        return parse(date_str)\n",
    "    except:\n",
    "        return pd.NaT \n"
   ]
  },
  {
   "cell_type": "code",
   "execution_count": 9,
   "metadata": {},
   "outputs": [],
   "source": [
    "##Extrae el año de la fecha, y asigna null a los valores que no cumplen con el formato correcto\n",
    "def get_year(date):\n",
    "    try:\n",
    "        year = date.year\n",
    "        return int(year)\n",
    "    except:\n",
    "        return pd.NaT"
   ]
  },
  {
   "cell_type": "code",
   "execution_count": 10,
   "metadata": {},
   "outputs": [],
   "source": [
    "##Convertir a formato de fecha utilizando la función parse_date\n",
    "df['release_date'] = df['release_date'].apply(parse_date)"
   ]
  },
  {
   "cell_type": "code",
   "execution_count": 11,
   "metadata": {},
   "outputs": [],
   "source": [
    "##Se crea la columna correspondiente al año de lanzamiento\n",
    "df['release_year'] = df['release_date'].apply(get_year)"
   ]
  },
  {
   "cell_type": "code",
   "execution_count": 13,
   "metadata": {},
   "outputs": [
    {
     "data": {
      "text/plain": [
       "array([4.99, 'Free To Play', 'Free to Play', 0.99, 2.99, 3.99, 9.99,\n",
       "       18.99, 29.99, nan, 'Free', 10.99, 1.59, 14.99, 1.99, 59.99, 8.99,\n",
       "       6.99, 7.99, 39.99, 19.99, 7.49, 12.99, 5.99, 2.49, 15.99, 1.25,\n",
       "       24.99, 17.99, 61.99, 3.49, 11.99, 13.99, 'Free Demo',\n",
       "       'Play for Free!', 34.99, 74.76, 1.49, 32.99, 99.99, 14.95, 69.99,\n",
       "       16.99, 79.99, 49.99, 5.0, 44.99, 13.98, 29.96, 119.99, 109.99,\n",
       "       149.99, 771.71, 'Install Now', 21.99, 89.99,\n",
       "       'Play WARMACHINE: Tactics Demo', 0.98, 139.92, 4.29, 64.99,\n",
       "       'Free Mod', 54.99, 74.99, 'Install Theme', 0.89, 'Third-party',\n",
       "       0.5, 'Play Now', 299.99, 1.29, 3.0, 15.0, 5.49, 23.99, 49.0, 20.99,\n",
       "       10.93, 1.39, 'Free HITMAN™ Holiday Pack', 36.99, 4.49, 2.0, 4.0,\n",
       "       9.0, 234.99, 1.95, 1.5, 199.0, 189.0, 6.66, 27.99, 10.49, 129.99,\n",
       "       179.0, 26.99, 399.99, 31.99, 399.0, 20.0, 40.0, 3.33, 199.99,\n",
       "       22.99, 320.0, 38.85, 71.7, 59.95, 995.0, 27.49, 3.39, 6.0, 19.95,\n",
       "       499.99, 16.06, 4.68, 131.4, 44.98, 202.76, 1.0, 2.3, 0.95, 172.24,\n",
       "       249.99, 2.97, 10.96, 10.0, 30.0, 2.66, 6.48, 19.29, 11.15, 18.9,\n",
       "       2.89, 'Play the Demo', 99.0, 87.94, 599.0, 8.98, 9.69, 0.49, 9.98,\n",
       "       9.95, 7.0, 'Starting at $499.00', 'Starting at $449.00', 12.89,\n",
       "       6.49, 1.87, 42.99, 41.99, 289.99, 'Free to Try', 23.96, 5.65, 12.0,\n",
       "       13.37, 189.96, 124.99, 'Free Movie', 19.98, 160.91, 'Free to Use'],\n",
       "      dtype=object)"
      ]
     },
     "execution_count": 13,
     "metadata": {},
     "output_type": "execute_result"
    }
   ],
   "source": [
    "df.price.unique()"
   ]
  },
  {
   "cell_type": "code",
   "execution_count": 12,
   "metadata": {},
   "outputs": [],
   "source": [
    "##Se crea una mascara que identifica los valores que contienen la palabra 'Free' en la columna price\n",
    "mask = df['price'].str.contains('free', case=False, na=False)"
   ]
  },
  {
   "cell_type": "code",
   "execution_count": 13,
   "metadata": {},
   "outputs": [],
   "source": [
    "##Rellenamos esos valores 'Free' por 0\n",
    "df.loc[mask, 'price'] = 0"
   ]
  },
  {
   "cell_type": "code",
   "execution_count": 14,
   "metadata": {},
   "outputs": [],
   "source": [
    "##Se convierte la columna price a float\n",
    "df['price'] = pd.to_numeric(df['price'], errors='coerce')"
   ]
  },
  {
   "cell_type": "code",
   "execution_count": 17,
   "metadata": {},
   "outputs": [],
   "source": [
    "df.to_csv('Data\\data.csv', index=False)"
   ]
  },
  {
   "cell_type": "code",
   "execution_count": 103,
   "metadata": {},
   "outputs": [
    {
     "name": "stdout",
     "output_type": "stream",
     "text": [
      "<class 'pandas.core.frame.DataFrame'>\n",
      "RangeIndex: 32135 entries, 0 to 32134\n",
      "Data columns (total 17 columns):\n",
      " #   Column          Non-Null Count  Dtype         \n",
      "---  ------          --------------  -----         \n",
      " 0   publisher       24083 non-null  object        \n",
      " 1   genres          28852 non-null  object        \n",
      " 2   app_name        32133 non-null  object        \n",
      " 3   title           30085 non-null  object        \n",
      " 4   url             32135 non-null  object        \n",
      " 5   release_date    29895 non-null  datetime64[ns]\n",
      " 6   tags            31972 non-null  object        \n",
      " 7   discount_price  225 non-null    float64       \n",
      " 8   reviews_url     32133 non-null  object        \n",
      " 9   specs           31465 non-null  object        \n",
      " 10  price           30748 non-null  float64       \n",
      " 11  early_access    32135 non-null  bool          \n",
      " 12  id              32133 non-null  object        \n",
      " 13  developer       28836 non-null  object        \n",
      " 14  sentiment       24953 non-null  object        \n",
      " 15  metascore       2677 non-null   object        \n",
      " 16  release_year    29895 non-null  object        \n",
      "dtypes: bool(1), datetime64[ns](1), float64(2), object(13)\n",
      "memory usage: 4.0+ MB\n"
     ]
    }
   ],
   "source": [
    "df.info()"
   ]
  },
  {
   "cell_type": "code",
   "execution_count": 77,
   "metadata": {},
   "outputs": [],
   "source": [
    "genres = df[['release_year','genres']]"
   ]
  },
  {
   "cell_type": "code",
   "execution_count": 78,
   "metadata": {},
   "outputs": [
    {
     "data": {
      "text/plain": [
       "release_year    2240\n",
       "genres          3283\n",
       "dtype: int64"
      ]
     },
     "execution_count": 78,
     "metadata": {},
     "output_type": "execute_result"
    }
   ],
   "source": [
    "genres.isnull().sum()"
   ]
  },
  {
   "cell_type": "code",
   "execution_count": 79,
   "metadata": {},
   "outputs": [],
   "source": [
    "genres = genres.dropna()"
   ]
  },
  {
   "cell_type": "code",
   "execution_count": 82,
   "metadata": {},
   "outputs": [],
   "source": [
    "genres.to_csv('Data\\genres.csv', index=False)"
   ]
  },
  {
   "cell_type": "code",
   "execution_count": 84,
   "metadata": {},
   "outputs": [],
   "source": [
    "names = df[['release_year', 'app_name']]"
   ]
  },
  {
   "cell_type": "code",
   "execution_count": 89,
   "metadata": {},
   "outputs": [
    {
     "data": {
      "text/plain": [
       "release_year    0\n",
       "app_name        0\n",
       "dtype: int64"
      ]
     },
     "execution_count": 89,
     "metadata": {},
     "output_type": "execute_result"
    }
   ],
   "source": [
    "names.isnull().sum()"
   ]
  },
  {
   "cell_type": "code",
   "execution_count": 88,
   "metadata": {},
   "outputs": [],
   "source": [
    "names = names.dropna()"
   ]
  },
  {
   "cell_type": "code",
   "execution_count": 92,
   "metadata": {},
   "outputs": [],
   "source": [
    "names.to_csv('Data\\\\names.csv', index=False)"
   ]
  },
  {
   "cell_type": "code",
   "execution_count": 94,
   "metadata": {},
   "outputs": [],
   "source": [
    "specs = df[['release_year', 'specs']]"
   ]
  },
  {
   "cell_type": "code",
   "execution_count": 95,
   "metadata": {},
   "outputs": [
    {
     "data": {
      "text/plain": [
       "release_year    2240\n",
       "specs            670\n",
       "dtype: int64"
      ]
     },
     "execution_count": 95,
     "metadata": {},
     "output_type": "execute_result"
    }
   ],
   "source": [
    "specs.isnull().sum()"
   ]
  },
  {
   "cell_type": "code",
   "execution_count": 96,
   "metadata": {},
   "outputs": [],
   "source": [
    "specs = specs.dropna()"
   ]
  },
  {
   "cell_type": "code",
   "execution_count": 98,
   "metadata": {},
   "outputs": [],
   "source": [
    "specs.to_csv('Data\\specs.csv', index=False)"
   ]
  },
  {
   "cell_type": "code",
   "execution_count": 25,
   "metadata": {},
   "outputs": [],
   "source": [
    "early_access = df.loc[df['early_access'] == True, ['release_year', 'id', 'app_name']]"
   ]
  },
  {
   "cell_type": "code",
   "execution_count": 39,
   "metadata": {},
   "outputs": [
    {
     "data": {
      "text/plain": [
       "(1434, 3)"
      ]
     },
     "execution_count": 39,
     "metadata": {},
     "output_type": "execute_result"
    }
   ],
   "source": [
    "early_access.shape"
   ]
  },
  {
   "cell_type": "code",
   "execution_count": 37,
   "metadata": {},
   "outputs": [],
   "source": [
    "early_access = early_access.dropna()"
   ]
  },
  {
   "cell_type": "code",
   "execution_count": 44,
   "metadata": {},
   "outputs": [
    {
     "name": "stdout",
     "output_type": "stream",
     "text": [
      "<class 'pandas.core.frame.DataFrame'>\n",
      "Index: 1434 entries, 43 to 32123\n",
      "Data columns (total 3 columns):\n",
      " #   Column        Non-Null Count  Dtype \n",
      "---  ------        --------------  ----- \n",
      " 0   release_year  1434 non-null   object\n",
      " 1   id            1434 non-null   object\n",
      " 2   app_name      1434 non-null   object\n",
      "dtypes: object(3)\n",
      "memory usage: 44.8+ KB\n"
     ]
    }
   ],
   "source": [
    "early_access.info()"
   ]
  },
  {
   "cell_type": "code",
   "execution_count": 43,
   "metadata": {},
   "outputs": [
    {
     "data": {
      "text/plain": [
       "1434"
      ]
     },
     "execution_count": 43,
     "metadata": {},
     "output_type": "execute_result"
    }
   ],
   "source": [
    "len(early_access['id'].unique())"
   ]
  },
  {
   "cell_type": "code",
   "execution_count": 45,
   "metadata": {},
   "outputs": [
    {
     "data": {
      "text/plain": [
       "1434"
      ]
     },
     "execution_count": 45,
     "metadata": {},
     "output_type": "execute_result"
    }
   ],
   "source": [
    "len(early_access['app_name'].unique())"
   ]
  },
  {
   "cell_type": "code",
   "execution_count": 46,
   "metadata": {},
   "outputs": [],
   "source": [
    "early_access.to_csv('Data\\early_access.csv', index=False)"
   ]
  },
  {
   "cell_type": "code",
   "execution_count": 49,
   "metadata": {},
   "outputs": [
    {
     "data": {
      "text/plain": [
       "32133"
      ]
     },
     "execution_count": 49,
     "metadata": {},
     "output_type": "execute_result"
    }
   ],
   "source": [
    "len(df.id.unique())"
   ]
  },
  {
   "cell_type": "code",
   "execution_count": 61,
   "metadata": {},
   "outputs": [],
   "source": [
    "sentiment = df[['release_year', 'sentiment']]"
   ]
  },
  {
   "cell_type": "code",
   "execution_count": 62,
   "metadata": {},
   "outputs": [
    {
     "data": {
      "text/plain": [
       "release_year    2240\n",
       "sentiment       7182\n",
       "dtype: int64"
      ]
     },
     "execution_count": 62,
     "metadata": {},
     "output_type": "execute_result"
    }
   ],
   "source": [
    "sentiment.isnull().sum()"
   ]
  },
  {
   "cell_type": "code",
   "execution_count": 63,
   "metadata": {},
   "outputs": [],
   "source": [
    "sentiment = sentiment.dropna()"
   ]
  },
  {
   "cell_type": "code",
   "execution_count": 67,
   "metadata": {},
   "outputs": [],
   "source": [
    "sentiment.to_csv('Data\\sentiment.csv', index=False)"
   ]
  },
  {
   "cell_type": "code",
   "execution_count": 93,
   "metadata": {},
   "outputs": [],
   "source": [
    "metascore = df[['release_year', 'metascore', 'app_name']]"
   ]
  },
  {
   "cell_type": "code",
   "execution_count": 98,
   "metadata": {},
   "outputs": [
    {
     "name": "stdout",
     "output_type": "stream",
     "text": [
      "<class 'pandas.core.frame.DataFrame'>\n",
      "Index: 2623 entries, 28 to 32117\n",
      "Data columns (total 3 columns):\n",
      " #   Column        Non-Null Count  Dtype \n",
      "---  ------        --------------  ----- \n",
      " 0   release_year  2623 non-null   object\n",
      " 1   metascore     2623 non-null   object\n",
      " 2   app_name      2623 non-null   object\n",
      "dtypes: object(3)\n",
      "memory usage: 82.0+ KB\n"
     ]
    }
   ],
   "source": [
    "metascore.info()"
   ]
  },
  {
   "cell_type": "code",
   "execution_count": 97,
   "metadata": {},
   "outputs": [
    {
     "data": {
      "text/plain": [
       "release_year    0\n",
       "metascore       0\n",
       "app_name        0\n",
       "dtype: int64"
      ]
     },
     "execution_count": 97,
     "metadata": {},
     "output_type": "execute_result"
    }
   ],
   "source": [
    "metascore.isnull().sum()"
   ]
  },
  {
   "cell_type": "code",
   "execution_count": 96,
   "metadata": {},
   "outputs": [],
   "source": [
    "metascore = metascore.dropna()"
   ]
  },
  {
   "cell_type": "code",
   "execution_count": 99,
   "metadata": {},
   "outputs": [],
   "source": [
    "metascore.to_csv('Data\\metascore.csv', index=False)"
   ]
  },
  {
   "cell_type": "code",
   "execution_count": 102,
   "metadata": {},
   "outputs": [
    {
     "data": {
      "text/plain": [
       "159"
      ]
     },
     "execution_count": 102,
     "metadata": {},
     "output_type": "execute_result"
    }
   ],
   "source": [
    "len(metascore[metascore['release_year'] == 2011])"
   ]
  }
 ],
 "metadata": {
  "kernelspec": {
   "display_name": "Python 3",
   "language": "python",
   "name": "python3"
  },
  "language_info": {
   "codemirror_mode": {
    "name": "ipython",
    "version": 3
   },
   "file_extension": ".py",
   "mimetype": "text/x-python",
   "name": "python",
   "nbconvert_exporter": "python",
   "pygments_lexer": "ipython3",
   "version": "3.11.3"
  },
  "orig_nbformat": 4
 },
 "nbformat": 4,
 "nbformat_minor": 2
}
